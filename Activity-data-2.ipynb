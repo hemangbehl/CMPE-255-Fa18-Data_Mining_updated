{
 "cells": [
  {
   "cell_type": "markdown",
   "metadata": {},
   "source": [
    "### Playing arund with Iris ###\n",
    "\n",
    "We will use Iris in class to practice some attribute transformations and computing similarities.\n"
   ]
  },
  {
   "cell_type": "code",
   "execution_count": 1,
   "metadata": {},
   "outputs": [
    {
     "data": {
      "text/plain": [
       "<Figure size 1200x600 with 1 Axes>"
      ]
     },
     "metadata": {},
     "output_type": "display_data"
    }
   ],
   "source": [
    "import matplotlib.pyplot as plt\n",
    "from sklearn import datasets\n",
    "\n",
    "#import some data to play with\n",
    "iris = datasets.load_iris()\n",
    "X = iris.data[:, 2:4]  # we only take petal length and petal width. ##we take all rows, 2nd and 3rd col\n",
    "Y = iris.target   #inherent property of the dataset: iris\n",
    "\n",
    "plt.figure(2, figsize=(12, 6))  #increased horizontal length\n",
    "plt.clf()\n",
    "\n",
    "# Plot the training points\n",
    "# Attribute(col) Information:\n",
    "#    1. sepal length in cm\n",
    "#    2. sepal width in cm\n",
    "#    3. petal length in cm\n",
    "#    4. petal width in cm\n",
    "#    5. class: \n",
    "#       -- Iris Setosa\n",
    "#       -- Iris Versicolour\n",
    "#       -- Iris Virginica\n",
    "plt.scatter(X[:, 0], X[:, 1], c=Y)\n",
    "plt.xlabel('Petal length')\n",
    "plt.ylabel('Petal width')\n",
    "\n",
    "plt.show()"
   ]
  },
  {
   "cell_type": "code",
   "execution_count": 2,
   "metadata": {},
   "outputs": [
    {
     "name": "stdout",
     "output_type": "stream",
     "text": [
      "[5.1 3.5 1.4 0.2] [5.9 3.  5.1 1.8]\n"
     ]
    }
   ],
   "source": [
    "import numpy as np\n",
    "A = iris.data\n",
    "a = A[0,:]\n",
    "b = A[-1,:]\n",
    "print(a,b)"
   ]
  },
  {
   "cell_type": "code",
   "execution_count": 3,
   "metadata": {},
   "outputs": [
    {
     "name": "stdout",
     "output_type": "stream",
     "text": [
      "[ 1.62924054  1.25276297  0.33647224 -1.60943791]\n"
     ]
    }
   ],
   "source": [
    "c = np.log(a)    #taking log of 1st row and all columns\n",
    "print (c)"
   ]
  },
  {
   "cell_type": "code",
   "execution_count": 5,
   "metadata": {},
   "outputs": [
    {
     "name": "stdout",
     "output_type": "stream",
     "text": [
      "[1.62924054 1.25276297 0.33647224 1.60943791]\n"
     ]
    }
   ],
   "source": [
    "d = np.abs(c)    #taking absolute value to remove negative values\n",
    "print(d)"
   ]
  },
  {
   "cell_type": "code",
   "execution_count": 6,
   "metadata": {},
   "outputs": [
    {
     "name": "stdout",
     "output_type": "stream",
     "text": [
      "4.3 7.9\n",
      "2.0 4.4\n",
      "1.0 6.9\n",
      "0.1 2.5\n"
     ]
    }
   ],
   "source": [
    "for i in range(A.shape[1]):\n",
    "    print(np.min(A[:,i]), np.max(A[:,i]))"
   ]
  },
  {
   "cell_type": "code",
   "execution_count": 7,
   "metadata": {},
   "outputs": [
    {
     "name": "stdout",
     "output_type": "stream",
     "text": [
      "5.843333333333334 0.8253012917851409\n",
      "-1.870024133847019 2.4920192021244283 -4.736951571734001e-16 1.0\n"
     ]
    }
   ],
   "source": [
    "c = A[:,0]   #take all rows and 1st column of iris.data (dataset)\n",
    "c_mean = np.mean(c)\n",
    "c_std = np.std(c)\n",
    "d = (c-c_mean)/c_std    #acc. to slides, standardization of data: subtract mean and dived by standard deviation\n",
    "print(c_mean, c_std)\n",
    "print(np.min(d), np.max(d), np.mean(d), np.std(d))"
   ]
  },
  {
   "cell_type": "code",
   "execution_count": 8,
   "metadata": {},
   "outputs": [
    {
     "name": "stdout",
     "output_type": "stream",
     "text": [
      "[-0.90068117 -1.14301691 -1.38535265 -1.50652052 -1.02184904 -0.53717756\n",
      " -1.50652052 -1.02184904 -1.74885626 -1.14301691 -0.53717756 -1.26418478\n",
      " -1.26418478 -1.87002413 -0.05250608 -0.17367395 -0.53717756 -0.90068117\n",
      " -0.17367395 -0.90068117 -0.53717756 -0.90068117 -1.50652052 -0.90068117\n",
      " -1.26418478 -1.02184904 -1.02184904 -0.7795133  -0.7795133  -1.38535265\n",
      " -1.26418478 -0.53717756 -0.7795133  -0.41600969 -1.14301691 -1.02184904\n",
      " -0.41600969 -1.14301691 -1.74885626 -0.90068117 -1.02184904 -1.62768839\n",
      " -1.74885626 -1.02184904 -0.90068117 -1.26418478 -0.90068117 -1.50652052\n",
      " -0.65834543 -1.02184904  1.40150837  0.67450115  1.2803405  -0.41600969\n",
      "  0.79566902 -0.17367395  0.55333328 -1.14301691  0.91683689 -0.7795133\n",
      " -1.02184904  0.06866179  0.18982966  0.31099753 -0.29484182  1.03800476\n",
      " -0.29484182 -0.05250608  0.4321654  -0.29484182  0.06866179  0.31099753\n",
      "  0.55333328  0.31099753  0.67450115  0.91683689  1.15917263  1.03800476\n",
      "  0.18982966 -0.17367395 -0.41600969 -0.41600969 -0.05250608  0.18982966\n",
      " -0.53717756  0.18982966  1.03800476  0.55333328 -0.29484182 -0.41600969\n",
      " -0.41600969  0.31099753 -0.05250608 -1.02184904 -0.29484182 -0.17367395\n",
      " -0.17367395  0.4321654  -0.90068117 -0.17367395  0.55333328 -0.05250608\n",
      "  1.52267624  0.55333328  0.79566902  2.12851559 -1.14301691  1.76501198\n",
      "  1.03800476  1.64384411  0.79566902  0.67450115  1.15917263 -0.17367395\n",
      " -0.05250608  0.67450115  0.79566902  2.24968346  2.24968346  0.18982966\n",
      "  1.2803405  -0.29484182  2.24968346  0.55333328  1.03800476  1.64384411\n",
      "  0.4321654   0.31099753  0.67450115  1.64384411  1.88617985  2.4920192\n",
      "  0.67450115  0.55333328  0.31099753  2.24968346  0.55333328  0.67450115\n",
      "  0.18982966  1.2803405   1.03800476  1.2803405  -0.05250608  1.15917263\n",
      "  1.03800476  1.03800476  0.55333328  0.79566902  0.4321654   0.06866179]\n"
     ]
    }
   ],
   "source": [
    "#expected from us: run the code and if possible play with it to get other possible results\n",
    "print (d)   #All values of standardized data - 'd'"
   ]
  },
  {
   "cell_type": "code",
   "execution_count": 9,
   "metadata": {},
   "outputs": [
    {
     "data": {
      "text/plain": [
       "['setosa', 'versicolor', 'virginica']"
      ]
     },
     "execution_count": 9,
     "metadata": {},
     "output_type": "execute_result"
    }
   ],
   "source": [
    "list(iris.target_names)    #inherent property of dataset: iris"
   ]
  },
  {
   "cell_type": "code",
   "execution_count": 10,
   "metadata": {},
   "outputs": [
    {
     "data": {
      "text/plain": [
       "'1.14.3'"
      ]
     },
     "execution_count": 10,
     "metadata": {},
     "output_type": "execute_result"
    }
   ],
   "source": [
    "np.__version__"
   ]
  }
 ],
 "metadata": {
  "anaconda-cloud": {},
  "kernelspec": {
   "display_name": "Python 3",
   "language": "python",
   "name": "python3"
  },
  "language_info": {
   "codemirror_mode": {
    "name": "ipython",
    "version": 3
   },
   "file_extension": ".py",
   "mimetype": "text/x-python",
   "name": "python",
   "nbconvert_exporter": "python",
   "pygments_lexer": "ipython3",
   "version": "3.6.5"
  }
 },
 "nbformat": 4,
 "nbformat_minor": 1
}
